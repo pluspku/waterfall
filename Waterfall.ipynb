{
 "cells": [
  {
   "cell_type": "code",
   "execution_count": 1,
   "metadata": {},
   "outputs": [],
   "source": [
    "import QuantLib as ql\n",
    "import pandas as pd\n",
    "import numpy as np\n",
    "import datetime"
   ]
  },
  {
   "cell_type": "code",
   "execution_count": 2,
   "metadata": {},
   "outputs": [],
   "source": [
    "calendar = ql.UnitedStates()\n",
    "termstruct_daycount = ql.Thirty360()\n",
    "today = pd.Timestamp('today')\n",
    "def dtp2q(pdt):\n",
    "    return ql.Date(pdt.day, pdt.month, pdt.year)\n",
    "def dtq2p(qdt):\n",
    "    return datetime.date(qdt.year(), qdt.month(), qdt.dayOfMonth())"
   ]
  },
  {
   "cell_type": "code",
   "execution_count": 3,
   "metadata": {},
   "outputs": [
    {
     "data": {
      "text/html": [
       "<div>\n",
       "<style scoped>\n",
       "    .dataframe tbody tr th:only-of-type {\n",
       "        vertical-align: middle;\n",
       "    }\n",
       "\n",
       "    .dataframe tbody tr th {\n",
       "        vertical-align: top;\n",
       "    }\n",
       "\n",
       "    .dataframe thead th {\n",
       "        text-align: right;\n",
       "    }\n",
       "</style>\n",
       "<table border=\"1\" class=\"dataframe\">\n",
       "  <thead>\n",
       "    <tr style=\"text-align: right;\">\n",
       "      <th></th>\n",
       "      <th>Index</th>\n",
       "      <th>Rate</th>\n",
       "      <th>Family</th>\n",
       "      <th>Tenor</th>\n",
       "      <th>Unit</th>\n",
       "    </tr>\n",
       "  </thead>\n",
       "  <tbody>\n",
       "    <tr>\n",
       "      <th>0</th>\n",
       "      <td>LIBOR_1MO</td>\n",
       "      <td>0.750</td>\n",
       "      <td>LIBOR</td>\n",
       "      <td>1</td>\n",
       "      <td>MO</td>\n",
       "    </tr>\n",
       "    <tr>\n",
       "      <th>1</th>\n",
       "      <td>LIBOR_3MO</td>\n",
       "      <td>1.052</td>\n",
       "      <td>LIBOR</td>\n",
       "      <td>3</td>\n",
       "      <td>MO</td>\n",
       "    </tr>\n",
       "    <tr>\n",
       "      <th>2</th>\n",
       "      <td>LIBOR_6MO</td>\n",
       "      <td>0.913</td>\n",
       "      <td>LIBOR</td>\n",
       "      <td>6</td>\n",
       "      <td>MO</td>\n",
       "    </tr>\n",
       "    <tr>\n",
       "      <th>3</th>\n",
       "      <td>SWAP_1YR</td>\n",
       "      <td>0.682</td>\n",
       "      <td>SWAP</td>\n",
       "      <td>1</td>\n",
       "      <td>YR</td>\n",
       "    </tr>\n",
       "    <tr>\n",
       "      <th>4</th>\n",
       "      <td>SWAP_2YR</td>\n",
       "      <td>0.612</td>\n",
       "      <td>SWAP</td>\n",
       "      <td>2</td>\n",
       "      <td>YR</td>\n",
       "    </tr>\n",
       "  </tbody>\n",
       "</table>\n",
       "</div>"
      ],
      "text/plain": [
       "       Index   Rate Family Tenor Unit\n",
       "0  LIBOR_1MO  0.750  LIBOR     1   MO\n",
       "1  LIBOR_3MO  1.052  LIBOR     3   MO\n",
       "2  LIBOR_6MO  0.913  LIBOR     6   MO\n",
       "3   SWAP_1YR  0.682   SWAP     1   YR\n",
       "4   SWAP_2YR  0.612   SWAP     2   YR"
      ]
     },
     "execution_count": 3,
     "metadata": {},
     "output_type": "execute_result"
    }
   ],
   "source": [
    "feed = pd.ExcelFile(\"data.xlsx\")\n",
    "rates = pd.read_excel(feed, sheet_name=\"Rates\")\n",
    "rates = rates.join(rates.Index.str.extract(\"(\\w+)_([\\d]+)(MO|YR)\").rename(columns={0: \"Family\", 1: \"Tenor\", 2: \"Unit\"}))\n",
    "rates.head()"
   ]
  },
  {
   "cell_type": "code",
   "execution_count": 4,
   "metadata": {},
   "outputs": [],
   "source": [
    "def leg_helper(r):\n",
    "    fixedLegFrequency = ql.Annual\n",
    "    fixedLegTenor = ql.Period(1, ql.Years)\n",
    "    fixedLegAdjustment = ql.Unadjusted\n",
    "    fixedLegDayCounter = ql.Thirty360()\n",
    "    if r.Family == \"LIBOR\":\n",
    "        return ql.DepositRateHelper(\n",
    "            ql.QuoteHandle(ql.SimpleQuote(r.Rate / 100)),\n",
    "            ql.Period(int(r.Tenor), ql.Months if r.Unit == \"MO\" else ql.Years),\n",
    "            2, #settle\n",
    "            calendar,\n",
    "            ql.ModifiedFollowing,\n",
    "            False,\n",
    "            termstruct_daycount\n",
    "          )\n",
    "    else:\n",
    "        return ql.SwapRateHelper(\n",
    "            ql.QuoteHandle(ql.SimpleQuote(r.Rate / 100)),\n",
    "            ql.Period(int(r.Tenor), ql.Months if r.Unit == \"MO\" else ql.Years),\n",
    "            calendar,\n",
    "            fixedLegFrequency,\n",
    "            fixedLegAdjustment,\n",
    "            fixedLegDayCounter,\n",
    "            ql.USDLibor(ql.Period(3, ql.Months)),\n",
    "        )"
   ]
  },
  {
   "cell_type": "code",
   "execution_count": 5,
   "metadata": {},
   "outputs": [],
   "source": [
    "curve = ql.PiecewiseCubicZero(2, calendar, rates.apply(leg_helper, axis=1).tolist(), termstruct_daycount)"
   ]
  },
  {
   "cell_type": "code",
   "execution_count": 6,
   "metadata": {},
   "outputs": [],
   "source": [
    "yts = ql.RelinkableYieldTermStructureHandle(curve)"
   ]
  },
  {
   "cell_type": "code",
   "execution_count": 7,
   "metadata": {},
   "outputs": [
    {
     "data": {
      "text/plain": [
       "<matplotlib.axes._subplots.AxesSubplot at 0x7fadc5aa7828>"
      ]
     },
     "execution_count": 7,
     "metadata": {},
     "output_type": "execute_result"
    },
    {
     "data": {
      "image/png": "[encoded data removed]",
      "text/plain": [
       "<Figure size 432x288 with 1 Axes>"
      ]
     },
     "metadata": {},
     "output_type": "display_data"
    }
   ],
   "source": [
    "fwds = []\n",
    "for dt in pd.date_range('2020-04-01', '2025-04-01', freq='1M'):    \n",
    "    qld = ql.Date(dt.day, dt.month, dt.year)\n",
    "    rate = yts.forwardRate(qld, calendar.advance(qld, 3, ql.Months), termstruct_daycount, ql.Compounded)\n",
    "    fwds.append([dt, rate.rate()])\n",
    "%matplotlib inline\n",
    "(pd.DataFrame(fwds).set_index(0) * 100).plot()"
   ]
  },
  {
   "cell_type": "code",
   "execution_count": 8,
   "metadata": {},
   "outputs": [],
   "source": [
    "collat = pd.read_excel(feed, sheet_name=\"Collat\")\n",
    "collat['Frequency'] = 12 / collat.Tenor"
   ]
  },
  {
   "cell_type": "code",
   "execution_count": 9,
   "metadata": {},
   "outputs": [],
   "source": [
    "collat['NextPay'] = collat.apply(lambda loan: loan.Maturity - pd.DateOffset(months=((loan.Maturity.to_period('1M') - today.to_period('1M')).n-1) // loan.Tenor * loan.Tenor), axis=1)"
   ]
  },
  {
   "cell_type": "code",
   "execution_count": 52,
   "metadata": {},
   "outputs": [],
   "source": [
    "class Scenario:\n",
    "    CallDt = pd.to_datetime(\"2034-01-01\")\n",
    "    class Reinv:\n",
    "        Spread = 3.5\n",
    "        Tenor = 3\n",
    "        IndexFloor = 1\n",
    "        Prepay = 20\n",
    "        Default = 2\n",
    "        Recovery = 70        \n",
    "        \n",
    "class DealInfo:\n",
    "    ReinvEndDt = pd.to_datetime(\"2022-01-30\")\n",
    "    CollatCutofDay = 10 # date in month\n",
    "    NextPayDt = pd.to_datetime(\"2020-04-30\")"
   ]
  },
  {
   "cell_type": "code",
   "execution_count": 53,
   "metadata": {},
   "outputs": [],
   "source": [
    "def get_loan_cf(loan):\n",
    "    ppy = 1-(1-loan.Prepay*0.01)**(1/loan.Frequency)\n",
    "    dflt = 1-(1-loan.Default*0.01)**(1/loan.Frequency)\n",
    "    ql_schedule = ql.Schedule(\n",
    "        dtp2q(loan.NextPay),\n",
    "        dtp2q(loan.Maturity),\n",
    "        ql.Period(int(loan.Tenor), ql.Months),\n",
    "        calendar,\n",
    "        ql.ModifiedFollowing,\n",
    "        ql.ModifiedFollowing,\n",
    "        ql.DateGeneration.Backward,\n",
    "        False\n",
    "    )\n",
    "    dates = pd.Series([dtq2p(d) for d in ql_schedule if dtq2p(d) <= Scenario.CallDt])\n",
    "    cfs = pd.DataFrame({\"BalancePre\": loan.Balance * np.power((1 - loan.Amort) * (1-ppy) * (1-dflt), np.arange(len(dates))), 'Date': dates})\n",
    "    cfs['AmortPrin'] = cfs.BalancePre * loan.Amort\n",
    "    cfs['PrepayPrin'] = (cfs.BalancePre - cfs['AmortPrin']) * ppy\n",
    "    cfs['DefaultAmt'] = (cfs.BalancePre - cfs['AmortPrin'] - cfs['PrepayPrin']) * dflt\n",
    "    cfs['BalancePost'] = cfs.BalancePre - cfs.AmortPrin - cfs.PrepayPrin - cfs.DefaultAmt\n",
    "    rec = (cfs.DefaultAmt * loan.Recovery / 100)\n",
    "    cfs['RecoveryPrin'] = rec.shift(loan.RecoveryLag).fillna(0)\n",
    "    cfs.loc[cfs.index[-1], 'RecoveryPrin'] += rec.tail(loan.RecoveryLag).sum()\n",
    "    cfs['Principal'] = cfs['AmortPrin'] + cfs['PrepayPrin'] + cfs['RecoveryPrin']\n",
    "    cfs.loc[cfs.index[-1], 'Principal'] += cfs.loc[cfs.index[-1], 'BalancePost']\n",
    "    \n",
    "    libor = ql.USDLibor(ql.Period(int(loan.Tenor), ql.Months), yts)\n",
    "    cfs['IndexRate'] = cfs.Date.apply(lambda d: libor.fixing(libor.fixingDate(dtp2q(d)))).shift(1)\n",
    "    cfs.loc[cfs.index[0], 'IndexRate'] = libor.fixing(calendar.adjust(dtp2q(today))) # no fixing info. use spot rate for now\n",
    "    cfs['CouponRate'] = np.maximum(cfs.IndexRate, loan.IndexFloor / 100) + loan.Spread / 100\n",
    "    cfs['Interest'] = cfs['CouponRate'] * cfs['BalancePre'] * loan.Tenor / 12 # simple compounding\n",
    "    \n",
    "    cfs['Name'] = loan.Name\n",
    "    cfs['Date'] = pd.to_datetime(cfs['Date'])\n",
    "    return cfs"
   ]
  },
  {
   "cell_type": "code",
   "execution_count": 54,
   "metadata": {},
   "outputs": [],
   "source": [
    "cf_initial = pd.concat([get_loan_cf(loan)  for _, loan in collat.iterrows()]).set_index('Date')"
   ]
  },
  {
   "cell_type": "code",
   "execution_count": 55,
   "metadata": {},
   "outputs": [],
   "source": [
    "initial_prin = cf_initial.groupby(\"Date\").sum().Principal"
   ]
  },
  {
   "cell_type": "code",
   "execution_count": 56,
   "metadata": {},
   "outputs": [],
   "source": [
    "from bintrees import FastRBTree "
   ]
  },
  {
   "cell_type": "code",
   "execution_count": 57,
   "metadata": {},
   "outputs": [],
   "source": [
    "tree = FastRBTree(initial_prin.items())"
   ]
  },
  {
   "cell_type": "code",
   "execution_count": 58,
   "metadata": {},
   "outputs": [],
   "source": [
    "reinv_assets = []\n",
    "reinv_offset = []\n",
    "while tree:\n",
    "    dt, prin = tree.pop_min()\n",
    "    if dt >= min(DealInfo.ReinvEndDt, Scenario.CallDt):\n",
    "        break\n",
    "    reinv_offset.append([dt, prin])\n",
    "    loan = pd.Series({\n",
    "        \"Name\": dt.strftime(\"Reinv%Y%m%d\"),\n",
    "        \"Balance\": prin / 0.99 , # px=99\n",
    "        \"Index\": \"LIBOR_3MO\",\n",
    "        \"Spread\": 3.5,\n",
    "        \"IndexFloor\": 1,\n",
    "        \"Tenor\": 3,\n",
    "        \"Maturity\": dt + pd.DateOffset(months=60),\n",
    "        \"NextPay\": dt + pd.DateOffset(months=3),\n",
    "        \"Amort\": 0,\n",
    "        \"Prepay\": 20,\n",
    "        \"Default\": 2,\n",
    "        \"Recovery\": 60,\n",
    "        \"RecoveryLag\": 3,\n",
    "        \"Frequency\": 4\n",
    "    })\n",
    "    reinv_assets.append(loan)\n",
    "    cfs = get_loan_cf(loan)\n",
    "    for d, p in cfs[['Date', 'Principal']].values:\n",
    "        tree.setdefault(d, 0)\n",
    "        tree[d] += p"
   ]
  },
  {
   "cell_type": "code",
   "execution_count": 59,
   "metadata": {},
   "outputs": [],
   "source": [
    "reinv_offset = -pd.DataFrame(reinv_offset, columns=['Date', 'Principal']).set_index('Date')"
   ]
  },
  {
   "cell_type": "code",
   "execution_count": 60,
   "metadata": {},
   "outputs": [],
   "source": [
    "cf_reinv = pd.concat([get_loan_cf(loan) for loan in reinv_assets]).set_index('Date')"
   ]
  },
  {
   "cell_type": "code",
   "execution_count": 61,
   "metadata": {},
   "outputs": [],
   "source": [
    "cf_collat = pd.concat([cf_initial, cf_reinv, reinv_offset])"
   ]
  },
  {
   "cell_type": "code",
   "execution_count": 62,
   "metadata": {},
   "outputs": [],
   "source": [
    "nextCutoffDt = datetime.date(DealInfo.NextPayDt.year, DealInfo.NextPayDt.month, DealInfo.CollatCutofDay)\n",
    "dealCutoffDates = pd.to_datetime([dtq2p(d) for d in     \n",
    "    ql.Schedule(\n",
    "        dtp2q(nextCutoffDt) - ql.Period(3, ql.Months),\n",
    "        dtp2q(nextCutoffDt) + ql.Period(360, ql.Months),\n",
    "        ql.Period(3, ql.Months),\n",
    "        calendar,\n",
    "        ql.Unadjusted,\n",
    "        ql.Unadjusted,\n",
    "        ql.DateGeneration.Backward,\n",
    "        False\n",
    "    )])\n",
    "dealPayDates = pd.to_datetime([dtq2p(d) for d in     \n",
    "    ql.Schedule(\n",
    "        dtp2q(DealInfo.NextPayDt),\n",
    "        dtp2q(DealInfo.NextPayDt) + ql.Period(360, ql.Months),\n",
    "        ql.Period(3, ql.Months),\n",
    "        calendar,\n",
    "        ql.ModifiedFollowing,\n",
    "        ql.ModifiedFollowing,\n",
    "        ql.DateGeneration.Backward,\n",
    "        False\n",
    "    )])"
   ]
  },
  {
   "cell_type": "code",
   "execution_count": 63,
   "metadata": {},
   "outputs": [],
   "source": [
    "collection_acc = cf_collat.groupby(pd.cut(cf_collat.index, dealCutoffDates)).sum().reset_index()\n",
    "collection_acc['Date'] = pd.to_datetime(collection_acc['index'].map(lambda x: x.right))\n",
    "collection_acc.drop(columns=\"index\", inplace=True)\n",
    "collection_acc.set_index('Date', inplace=True)"
   ]
  },
  {
   "cell_type": "code",
   "execution_count": 64,
   "metadata": {},
   "outputs": [],
   "source": [
    "cap_struct = pd.read_excel(feed, sheet_name=\"CapStruct\")"
   ]
  },
  {
   "cell_type": "code",
   "execution_count": 65,
   "metadata": {},
   "outputs": [],
   "source": [
    "libor = ql.USDLibor(ql.Period(int(3), ql.Months), yts)\n",
    "tranches = cap_struct.copy()\n",
    "tranches['BalancePost'] = tranches.Balance\n",
    "liab_cfs = []\n",
    "for cdate, pdate in zip(dealCutoffDates[1:], dealPayDates):    \n",
    "    cf = collection_acc.loc[cdate]\n",
    "    if cf.Principal > 0 or cf.Interest > 0:\n",
    "        tranches['BalancePre'] = tranches['BalancePost']\n",
    "        rate = libor.fixing(libor.fixingDate(dtp2q(cdate)))\n",
    "        tranches['Interest'] = tranches.BalancePre * (rate + tranches.Spread / 100) / 4\n",
    "        tranches.loc[tranches.index[-1], 'Interest'] = cf.Interest - tranches['Interest'].sum()\n",
    "        prin = cf.Principal\n",
    "        bals = tranches['BalancePre'].tolist()\n",
    "        prins = []\n",
    "        for i in range(len(bals)):\n",
    "            paydown = min(bals[i], prin)\n",
    "            prins.append(paydown)\n",
    "            bals[i] -= paydown\n",
    "            prin -= paydown     \n",
    "        prins[-1] += prin\n",
    "        tranches['BalancePost'] = bals\n",
    "        tranches['Principal'] = prins\n",
    "        tranches['Date'] = pdate\n",
    "        liab_cfs.append(tranches.copy())"
   ]
  },
  {
   "cell_type": "code",
   "execution_count": 66,
   "metadata": {},
   "outputs": [],
   "source": [
    "liab_cfs = pd.concat(liab_cfs)"
   ]
  },
  {
   "cell_type": "code",
   "execution_count": 67,
   "metadata": {},
   "outputs": [
    {
     "data": {
      "text/html": [
       "<div>\n",
       "<style scoped>\n",
       "    .dataframe tbody tr th:only-of-type {\n",
       "        vertical-align: middle;\n",
       "    }\n",
       "\n",
       "    .dataframe tbody tr th {\n",
       "        vertical-align: top;\n",
       "    }\n",
       "\n",
       "    .dataframe thead th {\n",
       "        text-align: right;\n",
       "    }\n",
       "</style>\n",
       "<table border=\"1\" class=\"dataframe\">\n",
       "  <thead>\n",
       "    <tr style=\"text-align: right;\">\n",
       "      <th></th>\n",
       "      <th>Tranche</th>\n",
       "      <th>Balance</th>\n",
       "      <th>Index</th>\n",
       "      <th>Spread</th>\n",
       "      <th>BalancePost</th>\n",
       "      <th>BalancePre</th>\n",
       "      <th>Interest</th>\n",
       "      <th>Principal</th>\n",
       "      <th>Date</th>\n",
       "    </tr>\n",
       "  </thead>\n",
       "  <tbody>\n",
       "    <tr>\n",
       "      <th>0</th>\n",
       "      <td>A</td>\n",
       "      <td>50000000</td>\n",
       "      <td>LIBOR_3MO</td>\n",
       "      <td>1.0</td>\n",
       "      <td>50000000.0</td>\n",
       "      <td>50000000.0</td>\n",
       "      <td>223954.0</td>\n",
       "      <td>-0.0</td>\n",
       "      <td>2020-07-30</td>\n",
       "    </tr>\n",
       "    <tr>\n",
       "      <th>1</th>\n",
       "      <td>B</td>\n",
       "      <td>10000000</td>\n",
       "      <td>LIBOR_3MO</td>\n",
       "      <td>4.0</td>\n",
       "      <td>10000000.0</td>\n",
       "      <td>10000000.0</td>\n",
       "      <td>104791.0</td>\n",
       "      <td>0.0</td>\n",
       "      <td>2020-07-30</td>\n",
       "    </tr>\n",
       "    <tr>\n",
       "      <th>2</th>\n",
       "      <td>SUBORD</td>\n",
       "      <td>10000000</td>\n",
       "      <td>NaN</td>\n",
       "      <td>NaN</td>\n",
       "      <td>10000000.0</td>\n",
       "      <td>10000000.0</td>\n",
       "      <td>386238.0</td>\n",
       "      <td>0.0</td>\n",
       "      <td>2020-07-30</td>\n",
       "    </tr>\n",
       "    <tr>\n",
       "      <th>0</th>\n",
       "      <td>A</td>\n",
       "      <td>50000000</td>\n",
       "      <td>LIBOR_3MO</td>\n",
       "      <td>1.0</td>\n",
       "      <td>50000000.0</td>\n",
       "      <td>50000000.0</td>\n",
       "      <td>191377.0</td>\n",
       "      <td>0.0</td>\n",
       "      <td>2020-10-30</td>\n",
       "    </tr>\n",
       "    <tr>\n",
       "      <th>1</th>\n",
       "      <td>B</td>\n",
       "      <td>10000000</td>\n",
       "      <td>LIBOR_3MO</td>\n",
       "      <td>4.0</td>\n",
       "      <td>10000000.0</td>\n",
       "      <td>10000000.0</td>\n",
       "      <td>98275.0</td>\n",
       "      <td>0.0</td>\n",
       "      <td>2020-10-30</td>\n",
       "    </tr>\n",
       "    <tr>\n",
       "      <th>...</th>\n",
       "      <td>...</td>\n",
       "      <td>...</td>\n",
       "      <td>...</td>\n",
       "      <td>...</td>\n",
       "      <td>...</td>\n",
       "      <td>...</td>\n",
       "      <td>...</td>\n",
       "      <td>...</td>\n",
       "      <td>...</td>\n",
       "    </tr>\n",
       "    <tr>\n",
       "      <th>1</th>\n",
       "      <td>B</td>\n",
       "      <td>10000000</td>\n",
       "      <td>LIBOR_3MO</td>\n",
       "      <td>4.0</td>\n",
       "      <td>0.0</td>\n",
       "      <td>0.0</td>\n",
       "      <td>0.0</td>\n",
       "      <td>0.0</td>\n",
       "      <td>2030-04-30</td>\n",
       "    </tr>\n",
       "    <tr>\n",
       "      <th>2</th>\n",
       "      <td>SUBORD</td>\n",
       "      <td>10000000</td>\n",
       "      <td>NaN</td>\n",
       "      <td>NaN</td>\n",
       "      <td>0.0</td>\n",
       "      <td>5160107.0</td>\n",
       "      <td>84662.0</td>\n",
       "      <td>5576811.0</td>\n",
       "      <td>2030-04-30</td>\n",
       "    </tr>\n",
       "    <tr>\n",
       "      <th>0</th>\n",
       "      <td>A</td>\n",
       "      <td>50000000</td>\n",
       "      <td>LIBOR_3MO</td>\n",
       "      <td>1.0</td>\n",
       "      <td>0.0</td>\n",
       "      <td>0.0</td>\n",
       "      <td>0.0</td>\n",
       "      <td>0.0</td>\n",
       "      <td>2030-07-30</td>\n",
       "    </tr>\n",
       "    <tr>\n",
       "      <th>1</th>\n",
       "      <td>B</td>\n",
       "      <td>10000000</td>\n",
       "      <td>LIBOR_3MO</td>\n",
       "      <td>4.0</td>\n",
       "      <td>0.0</td>\n",
       "      <td>0.0</td>\n",
       "      <td>0.0</td>\n",
       "      <td>0.0</td>\n",
       "      <td>2030-07-30</td>\n",
       "    </tr>\n",
       "    <tr>\n",
       "      <th>2</th>\n",
       "      <td>SUBORD</td>\n",
       "      <td>10000000</td>\n",
       "      <td>NaN</td>\n",
       "      <td>NaN</td>\n",
       "      <td>0.0</td>\n",
       "      <td>0.0</td>\n",
       "      <td>27420.0</td>\n",
       "      <td>2860114.0</td>\n",
       "      <td>2030-07-30</td>\n",
       "    </tr>\n",
       "  </tbody>\n",
       "</table>\n",
       "<p>123 rows × 9 columns</p>\n",
       "</div>"
      ],
      "text/plain": [
       "   Tranche   Balance      Index  Spread  BalancePost  BalancePre  Interest  \\\n",
       "0        A  50000000  LIBOR_3MO     1.0   50000000.0  50000000.0  223954.0   \n",
       "1        B  10000000  LIBOR_3MO     4.0   10000000.0  10000000.0  104791.0   \n",
       "2   SUBORD  10000000        NaN     NaN   10000000.0  10000000.0  386238.0   \n",
       "0        A  50000000  LIBOR_3MO     1.0   50000000.0  50000000.0  191377.0   \n",
       "1        B  10000000  LIBOR_3MO     4.0   10000000.0  10000000.0   98275.0   \n",
       "..     ...       ...        ...     ...          ...         ...       ...   \n",
       "1        B  10000000  LIBOR_3MO     4.0          0.0         0.0       0.0   \n",
       "2   SUBORD  10000000        NaN     NaN          0.0   5160107.0   84662.0   \n",
       "0        A  50000000  LIBOR_3MO     1.0          0.0         0.0       0.0   \n",
       "1        B  10000000  LIBOR_3MO     4.0          0.0         0.0       0.0   \n",
       "2   SUBORD  10000000        NaN     NaN          0.0         0.0   27420.0   \n",
       "\n",
       "    Principal       Date  \n",
       "0        -0.0 2020-07-30  \n",
       "1         0.0 2020-07-30  \n",
       "2         0.0 2020-07-30  \n",
       "0         0.0 2020-10-30  \n",
       "1         0.0 2020-10-30  \n",
       "..        ...        ...  \n",
       "1         0.0 2030-04-30  \n",
       "2   5576811.0 2030-04-30  \n",
       "0         0.0 2030-07-30  \n",
       "1         0.0 2030-07-30  \n",
       "2   2860114.0 2030-07-30  \n",
       "\n",
       "[123 rows x 9 columns]"
      ]
     },
     "execution_count": 67,
     "metadata": {},
     "output_type": "execute_result"
    }
   ],
   "source": [
    "liab_cfs.round()"
   ]
  },
  {
   "cell_type": "code",
   "execution_count": 68,
   "metadata": {},
   "outputs": [],
   "source": [
    "liab_cfs['Cashflow'] = liab_cfs.Principal + liab_cfs.Interest"
   ]
  },
  {
   "cell_type": "code",
   "execution_count": 75,
   "metadata": {},
   "outputs": [
    {
     "data": {
      "text/plain": [
       "<matplotlib.axes._subplots.AxesSubplot at 0x7fadc34c13c8>"
      ]
     },
     "execution_count": 75,
     "metadata": {},
     "output_type": "execute_result"
    },
    {
     "data": {
      "image/png": "[encoded data removed]",
      "text/plain": [
       "<Figure size 432x288 with 1 Axes>"
      ]
     },
     "metadata": {},
     "output_type": "display_data"
    }
   ],
   "source": [
    "%matplotlib inline\n",
    "liab_cfs.pivot(index='Date', columns='Tranche', values='Cashflow').plot()"
   ]
  }
 ],
 "metadata": {
  "kernelspec": {
   "display_name": "Python 3",
   "language": "python",
   "name": "python3"
  },
  "language_info": {
   "codemirror_mode": {
    "name": "ipython",
    "version": 3
   },
   "file_extension": ".py",
   "mimetype": "text/x-python",
   "name": "python",
   "nbconvert_exporter": "python",
   "pygments_lexer": "ipython3",
   "version": "3.6.6"
  }
 },
 "nbformat": 4,
 "nbformat_minor": 2
}
